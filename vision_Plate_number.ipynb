{
 "cells": [
  {
   "cell_type": "markdown",
   "metadata": {
    "id": "Tce3stUlHN0L"
   },
   "source": [
    "##### Copyright 2024 Google LLC."
   ]
  },
  {
   "cell_type": "code",
   "execution_count": null,
   "metadata": {
    "cellView": "form",
    "id": "tuOe1ymfHZPu"
   },
   "outputs": [],
   "source": [
    "#@title Licensed under the Apache License, Version 2.0 (the \"License\");\n",
    "# you may not use this file except in compliance with the License.\n",
    "# You may obtain a copy of the License at\n",
    "#\n",
    "# https://www.apache.org/licenses/LICENSE-2.0\n",
    "#\n",
    "# Unless required by applicable law or agreed to in writing, software\n",
    "# distributed under the License is distributed on an \"AS IS\" BASIS,\n",
    "# WITHOUT WARRANTIES OR CONDITIONS OF ANY KIND, either express or implied.\n",
    "# See the License for the specific language governing permissions and\n",
    "# limitations under the License."
   ]
  },
  {
   "cell_type": "markdown",
   "metadata": {
    "id": "084u8u0DpBlo"
   },
   "source": [
    "# Explore vision capabilities with the Gemini API"
   ]
  },
  {
   "cell_type": "markdown",
   "metadata": {
    "id": "ZFWzQEqNosrS"
   },
   "source": [
    "<table class=\"tfo-notebook-buttons\" align=\"left\">\n",
    "  <td>\n",
    "    <a target=\"_blank\" href=\"https://ai.google.dev/gemini-api/docs/vision\"><img src=\"https://ai.google.dev/static/site-assets/images/docs/notebook-site-button.png\" height=\"32\" width=\"32\" />View on ai.google.dev</a>\n",
    "  <td>\n",
    "    <a target=\"_blank\" href=\"https://colab.research.google.com/github/google/generative-ai-docs/blob/main/site/en/gemini-api/docs/vision.ipynb\"><img src=\"https://www.tensorflow.org/images/colab_logo_32px.png\" />Run in Google Colab</a>\n",
    "  </td>\n",
    "  <td>\n",
    "    <a target=\"_blank\" href=\"https://github.com/google/generative-ai-docs/blob/main/site/en/gemini-api/docs/vision.ipynb\"><img src=\"https://www.tensorflow.org/images/GitHub-Mark-32px.png\" />View source on GitHub</a>\n",
    "  </td>\n",
    "</table>"
   ]
  },
  {
   "cell_type": "markdown",
   "metadata": {
    "id": "3c5e92a74e64"
   },
   "source": [
    "The Gemini API is able to process images and videos, enabling a multitude of\n",
    " exciting developer use cases. Some of Gemini's vision capabilities include\n",
    " the ability to:\n",
    "\n",
    "*   Caption and answer questions about images\n",
    "*   Transcribe and reason over PDFs, including long documents up to 2 million token context window\n",
    "*   Describe, segment, and extract information from videos,\n",
    "including both visual frames and audio, up to 90 minutes long\n",
    "*   Detect objects in an image and return bounding box coordinates for them\n",
    "\n",
    "This tutorial demonstrates some possible ways to prompt the Gemini API with\n",
    "images and video input, provides code examples,\n",
    "and outlines prompting best practices with multimodal vision capabilities.\n",
    "All output is text-only."
   ]
  },
  {
   "cell_type": "markdown",
   "metadata": {
    "id": "VxCstRHvpX0r"
   },
   "source": [
    "## Setup\n",
    "\n",
    "Before you use the File API, you need to install the Gemini API SDK package and configure an API key. This section describes how to complete these setup steps."
   ]
  },
  {
   "cell_type": "markdown",
   "metadata": {
    "id": "G6J_rV2ipmj_"
   },
   "source": [
    "### Install the Python SDK and import packages\n",
    "\n",
    "The Python SDK for the Gemini API is contained in the [google-generativeai](https://pypi.org/project/google-generativeai/) package. Install the dependency using pip."
   ]
  },
  {
   "cell_type": "code",
   "execution_count": 1,
   "metadata": {
    "id": "mN8x8DPgu9Kv"
   },
   "outputs": [],
   "source": [
    "!pip install -q -U google-generativeai"
   ]
  },
  {
   "cell_type": "markdown",
   "metadata": {
    "id": "NInUZ4hwDq6d"
   },
   "source": [
    "Import the necessary packages."
   ]
  },
  {
   "cell_type": "code",
   "execution_count": 2,
   "metadata": {
    "id": "0x3xmmWrDtEH"
   },
   "outputs": [],
   "source": [
    "import google.generativeai as genai\n",
    "from IPython.display import Markdown"
   ]
  },
  {
   "cell_type": "markdown",
   "metadata": {
    "id": "l8g4hTRotheH"
   },
   "source": [
    "### Set up your API key\n",
    "\n",
    "The File API uses API keys for authentication and access. Uploaded files are associated with the project linked to the API key. Unlike other Gemini APIs that use API keys, your API key also grants access to data you've uploaded to the File API, so take extra care in keeping your API key secure. For more on keeping your keys\n",
    "secure, see [Best practices for using API\n",
    "keys](https://support.google.com/googleapi/answer/6310037).\n",
    "\n",
    "Store your API key in a Colab Secret named `GOOGLE_API_KEY`. If you don't already have an API key, or are unfamiliar with Colab Secrets, refer to the [Authentication quickstart](https://github.com/google-gemini/gemini-api-cookbook/blob/main/quickstarts/Authentication.ipynb)."
   ]
  },
  {
   "cell_type": "code",
   "execution_count": 3,
   "metadata": {
    "id": "d6lYXRcjthKV"
   },
   "outputs": [],
   "source": [
    "from google.colab import userdata\n",
    "GOOGLE_API_KEY=userdata.get('GOOGLE_API_KEY')\n",
    "\n",
    "genai.configure(api_key=GOOGLE_API_KEY)"
   ]
  },
  {
   "cell_type": "markdown",
   "metadata": {
    "id": "c-z4zsCUlaru"
   },
   "source": [
    "## Prompting with images\n",
    "\n",
    "In this tutorial, you will upload images using the File API or as inline data and generate content based on those images."
   ]
  },
  {
   "cell_type": "markdown",
   "metadata": {
    "id": "AKNehP2tr3Cr"
   },
   "source": [
    "### Technical details (images)\n",
    "Gemini 1.5 Pro and Flash support a maximum of 3,600 image files.\n",
    "\n",
    "Images must be in one of the following image data [MIME types](https://developers.google.com/drive/api/guides/ref-export-formats):\n",
    "\n",
    "-   PNG - `image/png`\n",
    "-   JPEG - `image/jpeg`\n",
    "-   WEBP - `image/webp`\n",
    "-   HEIC - `image/heic`\n",
    "-   HEIF - `image/heif`\n",
    "\n",
    "Each image is equivalent to 258 tokens.\n",
    "\n",
    "While there are no specific limits to the number of pixels in an image besides the model’s context window, larger images are scaled down to a maximum resolution of 3072x3072 while preserving their original aspect ratio, while smaller images are scaled up to 768x768 pixels. There is no cost reduction for images at lower sizes, other than bandwidth, or performance improvement for images at higher resolution.\n",
    "\n",
    "For best results:\n",
    "\n",
    "*   Rotate images to the correct orientation before uploading.\n",
    "*   Avoid blurry images.\n",
    "*   If using a single image, place the text prompt after the image."
   ]
  },
  {
   "cell_type": "markdown",
   "metadata": {
    "id": "2fa34d5c0db8"
   },
   "source": [
    "## Image input\n",
    "\n",
    "For total image payload size less than 20MB, it's recommended to either upload\n",
    "base64 encoded images or directly upload locally stored image files."
   ]
  },
  {
   "cell_type": "markdown",
   "metadata": {
    "id": "8336e412da3e"
   },
   "source": [
    "### Base64 encoded images\n",
    "\n",
    "You can upload public image URLs by encoding them as Base64 payloads.\n",
    "You can use the httpx library to fetch the image URLs.\n",
    "The following code example shows how to do this:"
   ]
  },
  {
   "cell_type": "code",
   "execution_count": 5,
   "metadata": {
    "colab": {
     "base_uri": "https://localhost:8080/",
     "height": 114
    },
    "id": "aa9a0e452544",
    "outputId": "84516647-1d8a-4aa7-c065-2d253e04cbb4"
   },
   "outputs": [
    {
     "data": {
      "text/markdown": [
       ">A view of London, England, showcasing the city's iconic landmarks under a cloudy sky.  The Houses of Parliament and Elizabeth Tower (Big Ben) are prominent in the center, with the London Eye Ferris wheel to the left. The Shard skyscraper is visible in the background.  The image encompasses a mix of historical and modern architecture, with glimpses of the River Thames and green spaces interspersed among the buildings.  The overall impression is one of a bustling urban landscape steeped in history.\n"
      ],
      "text/plain": [
       "<IPython.core.display.Markdown object>"
      ]
     },
     "execution_count": 5,
     "metadata": {},
     "output_type": "execute_result"
    }
   ],
   "source": [
    "import httpx\n",
    "import base64\n",
    "\n",
    "# Retrieve an image\n",
    "image_path = \"https://upload.wikimedia.org/wikipedia/commons/thumb/8/87/Palace_of_Westminster_from_the_dome_on_Methodist_Central_Hall.jpg/2560px-Palace_of_Westminster_from_the_dome_on_Methodist_Central_Hall.jpg\"\n",
    "image = httpx.get(image_path)\n",
    "\n",
    "# Choose a Gemini model\n",
    "model = genai.GenerativeModel(model_name=\"gemini-1.5-pro\")\n",
    "\n",
    "# Create a prompt\n",
    "prompt = \"Caption this image.\"\n",
    "response = model.generate_content(\n",
    "    [\n",
    "        {\n",
    "            \"mime_type\": \"image/jpeg\",\n",
    "            \"data\": base64.b64encode(image.content).decode(\"utf-8\"),\n",
    "        },\n",
    "        prompt,\n",
    "    ]\n",
    ")\n",
    "\n",
    "Markdown(\">\" + response.text)"
   ]
  },
  {
   "cell_type": "markdown",
   "metadata": {
    "id": "f47333dabe62"
   },
   "source": [
    "### Multiple images\n",
    "\n",
    "To prompt with multiple images in Base64 encoded format, you can do the\n",
    "following:"
   ]
  },
  {
   "cell_type": "code",
   "execution_count": 6,
   "metadata": {
    "colab": {
     "base_uri": "https://localhost:8080/",
     "height": 383
    },
    "id": "2816ea3d2d91",
    "outputId": "915a9b62-9ee6-4ac6-d5d5-c557442b4d7b"
   },
   "outputs": [
    {
     "data": {
      "text/markdown": [
       "**Image 1 (London Skyline):**\n",
       "\n",
       "* Houses of Parliament (including Big Ben/Elizabeth Tower)\n",
       "* London Eye (ferris wheel)\n",
       "* The Shard (tall, pointed skyscraper)\n",
       "* River Thames\n",
       "* Various other buildings, including government offices, residential buildings, and churches\n",
       "* Cranes (indicating construction)\n",
       "* Trees and green spaces\n",
       "\n",
       "**Image 2 (Jetpack Backpack Sketch):**\n",
       "\n",
       "* Backpack (main body)\n",
       "* Padded strap support\n",
       "* USB-C charging port\n",
       "* Retractible boosters (with flames/steam)\n",
       "* Annotations describing features:\n",
       "    * \"Fits 18\" laptop\"\n",
       "    * \"Lightweight\"\n",
       "    * \"Looks like a normal backpack\"\n",
       "    * \"15-min battery life\"\n",
       "    * \"Steam-powered, Green/Clean\""
      ],
      "text/plain": [
       "<IPython.core.display.Markdown object>"
      ]
     },
     "execution_count": 6,
     "metadata": {},
     "output_type": "execute_result"
    }
   ],
   "source": [
    "import httpx\n",
    "import base64\n",
    "\n",
    "# Retrieve two images\n",
    "image_path_1 = \"https://upload.wikimedia.org/wikipedia/commons/thumb/8/87/Palace_of_Westminster_from_the_dome_on_Methodist_Central_Hall.jpg/2560px-Palace_of_Westminster_from_the_dome_on_Methodist_Central_Hall.jpg\"\n",
    "image_path_2 = \"https://storage.googleapis.com/generativeai-downloads/images/jetpack.jpg\"\n",
    "\n",
    "image_1 = httpx.get(image_path_1)\n",
    "image_2 = httpx.get(image_path_2)\n",
    "\n",
    "# Create a prompt\n",
    "prompt = \"Generate a list of all the objects contained in both images.\"\n",
    "\n",
    "response = model.generate_content([\n",
    "{'mime_type':'image/jpeg', 'data': base64.b64encode(image_1.content).decode('utf-8')},\n",
    "{'mime_type':'image/jpeg', 'data': base64.b64encode(image_2.content).decode('utf-8')}, prompt])\n",
    "\n",
    "Markdown(response.text)"
   ]
  },
  {
   "cell_type": "markdown",
   "metadata": {
    "id": "Lm862F3zthiI"
   },
   "source": [
    "### Upload one or more locally stored image files\n",
    "\n",
    "Alternatively, you can upload one or more locally stored image files..\n",
    "\n",
    "You can download and use our drawings of [piranha-infested waters](https://storage.googleapis.com/generativeai-downloads/images/piranha.jpg) and a [firefighter with a cat](https://storage.googleapis.com/generativeai-downloads/images/firefighter.jpg). First, save these files to your local directory.\n",
    "\n",
    "Then click **Files** on the left sidebar. For each file, click the **Upload** button, then navigate to that file's location and upload it:\n",
    "\n",
    "<img width=400 src=\"https://ai.google.dev/tutorials/images/colab_upload.png\">\n",
    "\n",
    "When the combination of files and system instructions that you intend to send is larger than 20 MB in size, use the File API to upload those files. Smaller files can instead be called locally from the Gemini API:\n"
   ]
  },
  {
   "cell_type": "code",
   "execution_count": 8,
   "metadata": {
    "id": "XzMhQ8MWub5_"
   },
   "outputs": [],
   "source": [
    "import PIL.Image\n",
    "\n",
    "sample_file_2 = PIL.Image.open('piranha.jpg')\n",
    "sample_file_3 = PIL.Image.open('firefighter.jpg')"
   ]
  },
  {
   "cell_type": "code",
   "execution_count": 9,
   "metadata": {
    "colab": {
     "base_uri": "https://localhost:8080/",
     "height": 198
    },
    "id": "da11223550a9",
    "outputId": "14fcd8f9-51f6-493f-d8f3-8281a4c490f6"
   },
   "outputs": [
    {
     "data": {
      "text/markdown": [
       "(Upbeat, slightly quirky music)\n",
       "\n",
       "Stuck on a cliff, a shark in the way?\n",
       "Home is so close, but what do you say?\n",
       "Need a fireman, a ladder so tall,\n",
       "To rescue a kitty, about to have a fall?\n",
       "\n",
       "(Sound of a \"whoosh\" and a \"meow\")\n",
       "\n",
       "Problem Solver Pro's are here for you!\n",
       "From sharks to scared cats, we see you through.\n",
       "Any obstacle, big or small,\n",
       "We conquer them all, give us a call!\n",
       "\n",
       "(Sound of a phone ringing, then being answered cheerfully)\n",
       "\n",
       "Problem Solver Pro's, how can we help *you*? \n"
      ],
      "text/plain": [
       "<IPython.core.display.Markdown object>"
      ]
     },
     "execution_count": 9,
     "metadata": {},
     "output_type": "execute_result"
    }
   ],
   "source": [
    "import google.generativeai as genai\n",
    "\n",
    "# Choose a Gemini model.\n",
    "model = genai.GenerativeModel(model_name=\"gemini-1.5-pro-latest\")\n",
    "\n",
    "# Create a prompt.\n",
    "prompt = \"Write an advertising jingle based on the items in both images.\"\n",
    "\n",
    "response = model.generate_content([sample_file_2, sample_file_3, prompt])\n",
    "\n",
    "Markdown(response.text)"
   ]
  },
  {
   "cell_type": "markdown",
   "metadata": {
    "id": "736c83de95a1"
   },
   "source": [
    "Note that these inline data calls don't include many of the features available\n",
    "through the File API, such as getting file metadata,\n",
    "[listing](https://ai.google.dev/gemini-api/docs/vision?lang=python#list-files),\n",
    "or [deleting files](https://ai.google.dev/gemini-api/docs/vision?lang=python#delete-files)."
   ]
  },
  {
   "cell_type": "markdown",
   "metadata": {
    "id": "0d6f7af7c2ff"
   },
   "source": [
    "### Large image payloads"
   ]
  },
  {
   "cell_type": "markdown",
   "metadata": {
    "id": "rsdNkDszLBmQ"
   },
   "source": [
    "#### Upload an image file using the File API\n",
    "\n",
    "When the combination of files and system instructions that you intend to send is larger than 20 MB in size, use the File API to upload those files.\n",
    "\n",
    "**NOTE**: The File API lets you store up to 20 GB of files per project, with a per-file maximum size of 2 GB. Files are stored for 48 hours. They can be accessed in that period with your API key, but cannot be downloaded from the API. It is available at no cost in all regions where the Gemini API is available."
   ]
  },
  {
   "cell_type": "markdown",
   "metadata": {
    "id": "qfa2VSqEsulq"
   },
   "source": [
    "Upload the image using [`media.upload`](https://ai.google.dev/api/rest/v1beta/media/upload) and print the URI, which is used as a reference in Gemini API calls."
   ]
  },
  {
   "cell_type": "code",
   "execution_count": 10,
   "metadata": {
    "colab": {
     "base_uri": "https://localhost:8080/"
    },
    "id": "2e9f9469b337",
    "outputId": "3f2b2eb5-94a2-4ecd-84dc-b936b42b154b"
   },
   "outputs": [
    {
     "name": "stdout",
     "output_type": "stream",
     "text": [
      "  % Total    % Received % Xferd  Average Speed   Time    Time     Time  Current\n",
      "                                 Dload  Upload   Total   Spent    Left  Speed\n",
      "\r  0     0    0     0    0     0      0      0 --:--:-- --:--:-- --:--:--     0\r100  349k  100  349k    0     0  3119k      0 --:--:-- --:--:-- --:--:-- 3145k\n"
     ]
    }
   ],
   "source": [
    "!curl -o jetpack.jpg https://storage.googleapis.com/generativeai-downloads/images/jetpack.jpg"
   ]
  },
  {
   "cell_type": "code",
   "execution_count": 12,
   "metadata": {
    "colab": {
     "base_uri": "https://localhost:8080/",
     "height": 34
    },
    "id": "N9NxXGZKKusG",
    "outputId": "31d10fde-97fe-45b3-b6fc-bff0fe2715f3"
   },
   "outputs": [
    {
     "name": "stdout",
     "output_type": "stream",
     "text": [
      "Uploaded file 'Jetpack drawing' as: https://generativelanguage.googleapis.com/v1beta/files/aqniccgoygk0\n"
     ]
    }
   ],
   "source": [
    "# Upload the file and print a confirmation.\n",
    "sample_file = genai.upload_file(path=\"jetpack.jpg\",\n",
    "                            display_name=\"Jetpack drawing\")\n",
    "\n",
    "print(f\"Uploaded file '{sample_file.display_name}' as: {sample_file.uri}\")"
   ]
  },
  {
   "cell_type": "markdown",
   "metadata": {
    "id": "cto22vhKOvGQ"
   },
   "source": [
    "The `response` shows that the File API stored the specified `display_name` for the uploaded file and a `uri` to reference the file in Gemini API calls. Use `response` to track how uploaded files are mapped to URIs.\n",
    "\n",
    "Depending on your use case, you can also store the URIs in structures such as a `dict` or a database."
   ]
  },
  {
   "cell_type": "markdown",
   "metadata": {
    "id": "ds5iJlaembWe"
   },
   "source": [
    "#### Verify image file upload and get metadata\n",
    "\n",
    "You can verify the API successfully stored the uploaded file and get its metadata by calling [`files.get`](https://ai.google.dev/api/rest/v1beta/files/get) through the SDK. Only the `name` (and by extension, the `uri`) are unique. Use `display_name` to identify files only if you manage uniqueness yourself."
   ]
  },
  {
   "cell_type": "code",
   "execution_count": 13,
   "metadata": {
    "colab": {
     "base_uri": "https://localhost:8080/",
     "height": 34
    },
    "id": "kLFsVLFHOWSV",
    "outputId": "4b431cc7-f32e-4861-fe40-f1a893db33dd"
   },
   "outputs": [
    {
     "name": "stdout",
     "output_type": "stream",
     "text": [
      "Retrieved file 'Jetpack drawing' as: https://generativelanguage.googleapis.com/v1beta/files/aqniccgoygk0\n"
     ]
    }
   ],
   "source": [
    "file = genai.get_file(name=sample_file.name)\n",
    "print(f\"Retrieved file '{file.display_name}' as: {sample_file.uri}\")"
   ]
  },
  {
   "cell_type": "markdown",
   "metadata": {
    "id": "BqzIGKBmnFoJ"
   },
   "source": [
    "Depending on your use case, you can store the URIs in structures, such as a `dict` or a database."
   ]
  },
  {
   "cell_type": "markdown",
   "metadata": {
    "id": "EPPOECHzsIGJ"
   },
   "source": [
    "#### Prompt with the uploaded image and text\n",
    "\n",
    "After uploading the file, you can make GenerateContent requests that reference the File API URI. Select the generative model and provide it with a text prompt and the uploaded image."
   ]
  },
  {
   "cell_type": "code",
   "execution_count": 14,
   "metadata": {
    "colab": {
     "base_uri": "https://localhost:8080/",
     "height": 823
    },
    "id": "ZYVFqmLkl5nE",
    "outputId": "657efe3b-392a-405f-97d2-98a69c374741"
   },
   "outputs": [
    {
     "data": {
      "text/markdown": [
       "Manufacturing a jetpack backpack like this would involve a complex integration of various technologies and materials. Here's a possible breakdown of the manufacturing process:\n",
       "\n",
       "1. **Backpack Construction:** This would follow standard backpack manufacturing procedures.  \n",
       "    * **Fabric Cutting and Sewing:** Durable, lightweight materials (e.g., ripstop nylon, Cordura) would be cut and sewn to form the backpack's main compartment, pockets, and padded straps.\n",
       "    * **Hardware Attachment:** Buckles, zippers, and other hardware would be attached.\n",
       "2. **Booster System Fabrication:** This is the most complex part.\n",
       "    * **Miniature Boiler/Heat Exchanger:** This component would generate steam, likely using a compact, high-efficiency fuel source (perhaps a specialized solid fuel or a small, rechargeable high-energy-density battery powering a heating element). This part would require precision machining and assembly.\n",
       "    * **Nozzles/Thrusters:**  Precision-engineered nozzles would be crucial for directing the steam and generating thrust. These could be 3D-printed from high-temperature resistant materials or manufactured using traditional metalworking techniques.\n",
       "    * **Retraction Mechanism:**  A system, possibly involving servos or small hydraulics, would be needed to retract and deploy the boosters. This mechanism would need to be lightweight yet strong and reliable.  \n",
       "3. **Steam Generation and Control System:**\n",
       "    * **Water Reservoir:** A small, sealed reservoir to hold the water would be integrated into the backpack.\n",
       "    * **Pumps and Valves:** Miniature pumps and valves controlled by a micro-controller would regulate the flow of water to the boiler and steam to the nozzles.\n",
       "4. **Electronics Integration:**\n",
       "    * **Microcontroller:**  A small, powerful microcontroller would manage the entire system, including the charging system, battery life monitoring, booster deployment, steam generation, and thrust control.\n",
       "    * **Sensors:** Sensors to monitor temperature, pressure, water level, and battery life would be essential.\n",
       "    * **USB-C Charging Port:**  A standard USB-C port would be integrated for recharging the battery.\n",
       "5. **Assembly and Testing:**\n",
       "    * **Component Integration:** All the components – the backpack, booster system, steam generation system, and electronics – would be carefully assembled and integrated.\n",
       "    * **Quality Control:**  Rigorous testing would be essential to ensure safety, reliability, and performance. This would include tests of the booster system, steam generation, battery life, and overall backpack functionality.\n",
       "6. **Packaging and Distribution:**  The finished jetpack backpacks would be packaged and shipped to retailers.\n",
       "\n",
       "\n",
       "**Challenges and Considerations:**\n",
       "\n",
       "* **Safety:**  Steam at high pressures can be dangerous. Ensuring the safety and reliability of the steam generation and control system would be paramount.\n",
       "* **Weight:** Keeping the overall weight of the jetpack backpack manageable would be a significant challenge. Lightweight, high-strength materials would be critical.\n",
       "* **Battery Life:**  A 15-minute battery life suggests a high power demand. Improving battery technology or exploring alternative fuel sources would be important for future development.\n",
       "* **Regulations:**  There would likely be significant regulatory hurdles to overcome before such a product could be sold commercially, especially concerning air traffic regulations.\n",
       "\n",
       "\n",
       "This manufacturing process is a complex undertaking, requiring expertise in various engineering disciplines and close attention to safety and quality control.\n"
      ],
      "text/plain": [
       "<IPython.core.display.Markdown object>"
      ]
     },
     "execution_count": 14,
     "metadata": {},
     "output_type": "execute_result"
    }
   ],
   "source": [
    "# Choose a Gemini model.\n",
    "model = genai.GenerativeModel(model_name=\"gemini-1.5-pro-latest\")\n",
    "\n",
    "# Prompt the model with text and the previously uploaded image.\n",
    "response = model.generate_content([sample_file, \"Describe how this product might be manufactured.\"])\n",
    "\n",
    "Markdown(response.text)"
   ]
  },
  {
   "cell_type": "markdown",
   "metadata": {
    "id": "c63c1a7a8e32"
   },
   "source": [
    "## Capabilties\n",
    "\n",
    "This section outlines specific vision capabilities of the Gemini model, including object detection and bounding box coordinates."
   ]
  },
  {
   "cell_type": "markdown",
   "metadata": {
    "id": "7e16d742407a"
   },
   "source": [
    "### Get bounding boxes\n",
    "\n",
    "Gemini models are trained to return bounding box coordinates as relative widths or heights in the range of [0, 1]. These values are then scaled by 1000 and converted to integers. Effectively, the coordinates represent the bounding box on a 1000x1000 pixel version of the image. Therefore, you'll need to convert these coordinates back to the dimensions of your original image to accurately map the bounding boxes."
   ]
  },
  {
   "cell_type": "code",
   "execution_count": 15,
   "metadata": {
    "colab": {
     "base_uri": "https://localhost:8080/",
     "height": 203
    },
    "id": "778dd36334f4",
    "outputId": "fc8e12ed-2539-432d-f735-ea78d7cd2663"
   },
   "outputs": [
    {
     "data": {
      "text/markdown": [
       "- [74, 322, 589, 571]: backpack\n",
       "- [631, 279, 998, 626]: jet propulsion\n",
       "- [197, 89, 353, 350]: padded strap support\n",
       "- [258, 573, 504, 922]: looks like normal backpack\n",
       "- [605, 637, 696, 887]: retractable boosters\n",
       "- [150, 517, 204, 787]: fits 18\" laptop\n",
       "- [255, 661, 321, 926]: lightweight\n",
       "- [848, 666, 950, 979]: steam powered, green/clean\n",
       "- [619, 103, 721, 282]: usb-c charging\n",
       "- [750, 40, 895, 216]: 15-minute battery life\n"
      ],
      "text/plain": [
       "<IPython.core.display.Markdown object>"
      ]
     },
     "execution_count": 15,
     "metadata": {},
     "output_type": "execute_result"
    }
   ],
   "source": [
    "# Choose a Gemini model.\n",
    "model = genai.GenerativeModel(model_name=\"gemini-1.5-pro-latest\")\n",
    "\n",
    "# Create a prompt to detect bounding boxes.\n",
    "prompt = \"Return a bounding box for each of the objects in this image in [ymin, xmin, ymax, xmax] format.\"\n",
    "response = model.generate_content([sample_file, prompt])\n",
    "\n",
    "Markdown(response.text)"
   ]
  },
  {
   "cell_type": "markdown",
   "metadata": {
    "id": "b8e422c55df2"
   },
   "source": [
    "The model returns bounding box coordinates in the format\n",
    "`[ymin, xmin, ymax, xmax]`. To convert these normalized coordinates\n",
    "to the pixel coordinates of your original image, follow these steps:\n",
    "\n",
    "1.    Divide each output coordinate by 1000.\n",
    "1.    Multiply the x-coordinates by the original image width.\n",
    "1.    Multiply the y-coordinates by the original image height.\n",
    "\n",
    "To explore more detailed examples of generating bounding box coordinates and\n",
    "visualizing them on images, review our [Object Detection cookbook example](https://github.com/google-gemini/cookbook/blob/main/examples/Object_detection.ipynb)."
   ]
  },
  {
   "cell_type": "markdown",
   "metadata": {
    "id": "TaUZc1mvLkHY"
   },
   "source": [
    "## Prompting with video\n",
    "\n",
    "In this tutorial, you will upload a video using the File API and generate content based on those images."
   ]
  },
  {
   "cell_type": "markdown",
   "metadata": {
    "id": "nDN32NDPxXGX"
   },
   "source": [
    "### Technical details (video)\n",
    "\n",
    "Gemini 1.5 Pro and Flash support up to approximately an hour of video data.\n",
    "\n",
    "Video must be in one of the following video format [MIME types](https://developers.google.com/drive/api/guides/ref-export-formats):\n",
    "  -   `video/mp4`\n",
    "  -   `video/mpeg`\n",
    "  -   `video/mov`\n",
    "  -   `video/avi`\n",
    "  -   `video/x-flv`\n",
    "  -   `video/mpg`\n",
    "  -   `video/webm`\n",
    "  -   `video/wmv`\n",
    "  -   `video/3gpp`\n",
    "\n",
    "The File API service currently extracts image frames from videos at 1 frame per second (FPS) and audio at 1Kbps, single channel, adding timestamps every second. These rates are subject to change in the future for improvements in inference.\n",
    "\n",
    "**NOTE:** The finer details of fast action sequences may be lost at the 1 FPS frame sampling rate. Consider slowing down high-speed clips for improved inference quality.\n",
    "\n",
    "Individual frames are 258 tokens, and audio is 32 tokens per second. With metadata, each second of video becomes ~300 tokens, which means a 1M context window can fit slightly less than an hour of video.\n",
    "\n",
    "To ask questions about time-stamped locations, use the format `MM:SS`, where the first two digits represent minutes and the last two digits represent seconds.\n",
    "\n",
    "For best results:\n",
    "\n",
    "*   Use one video per prompt.\n",
    "*   If using a single video, place the text prompt after the video."
   ]
  },
  {
   "cell_type": "markdown",
   "metadata": {
    "id": "MNvhBdoDFnTC"
   },
   "source": [
    "### Upload a video file to the File API\n",
    "\n",
    "**NOTE**: The File API lets you store up to 20 GB of files per project, with a per-file maximum size of 2 GB. Files are stored for 48 hours. They can be accessed in that period with your API key, but they cannot be downloaded using any API. It is available at no cost in all regions where the Gemini API is available.\n",
    "\n",
    "The File API accepts video file formats directly. This example uses the short NASA film [\"Jupiter's Great Red Spot Shrinks and Grows\"](https://www.youtube.com/watch?v=JDi4IdtvDVE0). Credit: Goddard Space Flight Center (GSFC)/David Ladd (2018).\n",
    "\n",
    "> \"Jupiter's Great Red Spot Shrinks and Grows\" is in the public domain and does not show identifiable people. ([NASA image and media usage guidelines.](https://www.nasa.gov/nasa-brand-center/images-and-media/))\n",
    "\n",
    "Start by retrieving the short video:"
   ]
  },
  {
   "cell_type": "code",
   "execution_count": 16,
   "metadata": {
    "colab": {
     "base_uri": "https://localhost:8080/"
    },
    "id": "V4XeFdX1rxaE",
    "outputId": "b9142bb8-b0e3-4ca5-e04f-eb6ab6d57bc6"
   },
   "outputs": [
    {
     "name": "stdout",
     "output_type": "stream",
     "text": [
      "--2024-12-07 12:12:41--  https://storage.googleapis.com/generativeai-downloads/images/GreatRedSpot.mp4\n",
      "Resolving storage.googleapis.com (storage.googleapis.com)... 74.125.135.207, 173.194.202.207, 74.125.142.207, ...\n",
      "Connecting to storage.googleapis.com (storage.googleapis.com)|74.125.135.207|:443... connected.\n",
      "HTTP request sent, awaiting response... 200 OK\n",
      "Length: 238090979 (227M) [video/mp4]\n",
      "Saving to: ‘GreatRedSpot.mp4’\n",
      "\n",
      "GreatRedSpot.mp4    100%[===================>] 227.06M   100MB/s    in 2.3s    \n",
      "\n",
      "2024-12-07 12:12:44 (100 MB/s) - ‘GreatRedSpot.mp4’ saved [238090979/238090979]\n",
      "\n"
     ]
    }
   ],
   "source": [
    "!wget https://storage.googleapis.com/generativeai-downloads/images/GreatRedSpot.mp4"
   ]
  },
  {
   "cell_type": "markdown",
   "metadata": {
    "id": "ZusSiIg2T6ls"
   },
   "source": [
    "Upload the video to the File API and print the URI."
   ]
  },
  {
   "cell_type": "code",
   "execution_count": 17,
   "metadata": {
    "colab": {
     "base_uri": "https://localhost:8080/",
     "height": 52
    },
    "id": "_HzrDdp2Q1Cu",
    "outputId": "b999e1a1-3e0f-4be0-c326-aaa29dda5ee9"
   },
   "outputs": [
    {
     "name": "stdout",
     "output_type": "stream",
     "text": [
      "Uploading file...\n",
      "Completed upload: https://generativelanguage.googleapis.com/v1beta/files/opr6ipiwm0lc\n"
     ]
    }
   ],
   "source": [
    "video_file_name = \"GreatRedSpot.mp4\"\n",
    "\n",
    "print(f\"Uploading file...\")\n",
    "video_file = genai.upload_file(path=video_file_name)\n",
    "print(f\"Completed upload: {video_file.uri}\")"
   ]
  },
  {
   "cell_type": "markdown",
   "metadata": {
    "id": "oOZmTUb4FWOa"
   },
   "source": [
    "### Verify file upload and check state\n",
    "\n",
    "Verify the API has successfully received the files by calling the [`files.get`](https://ai.google.dev/api/rest/v1beta/files/get) method.\n",
    "\n",
    "**NOTE**: Video files have a `State` field in the File API. When a video is uploaded, it will be in the `PROCESSING` state until it is ready for inference. Only `ACTIVE` files can be used for model inference."
   ]
  },
  {
   "cell_type": "code",
   "execution_count": 18,
   "metadata": {
    "colab": {
     "base_uri": "https://localhost:8080/",
     "height": 34
    },
    "id": "SHMVCWHkFhJW",
    "outputId": "b62cb355-21d8-4ea6-f714-007eaa00830c"
   },
   "outputs": [
    {
     "name": "stdout",
     "output_type": "stream",
     "text": [
      "."
     ]
    }
   ],
   "source": [
    "import time\n",
    "\n",
    "# Check whether the file is ready to be used.\n",
    "while video_file.state.name == \"PROCESSING\":\n",
    "    print('.', end='')\n",
    "    time.sleep(10)\n",
    "    video_file = genai.get_file(video_file.name)\n",
    "\n",
    "if video_file.state.name == \"FAILED\":\n",
    "  raise ValueError(video_file.state.name)"
   ]
  },
  {
   "cell_type": "markdown",
   "metadata": {
    "id": "IYIIHsvQt0_W"
   },
   "source": [
    "### Prompt with a video and text\n",
    "\n",
    "Once the uploaded video is in the `ACTIVE` state, you can make `GenerateContent` requests that specify the File API URI for that video. Select the generative model and provide it with the uploaded video and a text prompt."
   ]
  },
  {
   "cell_type": "code",
   "execution_count": 19,
   "metadata": {
    "colab": {
     "base_uri": "https://localhost:8080/",
     "height": 456
    },
    "id": "sHH0ZR6Yt42S",
    "outputId": "ba5ef3b8-308c-4ada-98f8-fe0f23336a0e"
   },
   "outputs": [
    {
     "name": "stdout",
     "output_type": "stream",
     "text": [
      "Making LLM inference request...\n"
     ]
    },
    {
     "data": {
      "text/markdown": [
       "This video discusses how Jupiter's Great Red Spot is changing. New data has revealed that the iconic red spot is not spinning faster but growing taller. It is like a lump of clay that spins and then gets taller as it continues to be molded. The Great Red Spot is shrinking in size, and it is believed that this makes the storm taller. The Great Red Spot is now approximately 1/3 of the size it was when it was first observed. These findings were made using data from several NASA missions, including Voyager, Hubble, and Juno.\n",
       "\n",
       "\n",
       "Here is a quiz:\n",
       "\n",
       "1. What is Jupiter’s Great Red Spot?\n",
       "a) A star\n",
       "b) A tornado\n",
       "c) A storm\n",
       "\n",
       "2. Why has the Great Red Spot raged for over a century?\n",
       "a) There’s no land mass to slow it down\n",
       "b) There are numerous moons to fuel it\n",
       "c) Jupiter is the largest planet in our solar system\n",
       "\n",
       "3. The Great Red Spot is shrinking and getting what other shape?\n",
       "a) Rounder\n",
       "b) Oval-er\n",
       "c) Flatter\n",
       "\n",
       "4. As the storm shrinks, the wind speed inside increases. This has been compared to what activity on Earth?\n",
       "a) Swimming\n",
       "b) Ice skating\n",
       "c) Running\n",
       "\n",
       "5. Which three NASA spacecrafts have been used to collect data on the storm?\n",
       "a) Voyager, Hubble, and Juno\n",
       "b) SpaceX, Hubble, and Voyager\n",
       "c) Hubble, Juno, and Sputnik\n",
       "\n",
       "\n",
       "Answer Key:\n",
       "1. c\n",
       "2. a\n",
       "3. a\n",
       "4. b\n",
       "5. a"
      ],
      "text/plain": [
       "<IPython.core.display.Markdown object>"
      ]
     },
     "execution_count": 19,
     "metadata": {},
     "output_type": "execute_result"
    }
   ],
   "source": [
    "# Create the prompt.\n",
    "prompt = \"Summarize this video. Then create a quiz with answer key based on the information in the video.\"\n",
    "\n",
    "# Choose a Gemini model.\n",
    "model = genai.GenerativeModel(model_name=\"gemini-1.5-pro-latest\")\n",
    "\n",
    "# Make the LLM request.\n",
    "print(\"Making LLM inference request...\")\n",
    "response = model.generate_content([video_file, prompt],\n",
    "                                  request_options={\"timeout\": 600})\n",
    "\n",
    "# Print the response, rendering any Markdown\n",
    "Markdown(response.text)"
   ]
  },
  {
   "cell_type": "markdown",
   "metadata": {
    "id": "zS5NmQeXLqeS"
   },
   "source": [
    "### Refer to timestamps in the content\n",
    "\n",
    "You can use timestamps of the form `MM:SS` to refer to specific moments in the video."
   ]
  },
  {
   "cell_type": "code",
   "execution_count": 20,
   "metadata": {
    "colab": {
     "base_uri": "https://localhost:8080/",
     "height": 139
    },
    "id": "ypZuGQ-2LqeS",
    "outputId": "27ffd4bf-7fd8-44bb-c268-12b969e0d868"
   },
   "outputs": [
    {
     "name": "stdout",
     "output_type": "stream",
     "text": [
      "Making LLM inference request...\n"
     ]
    },
    {
     "data": {
      "text/markdown": [
       "The footage at 01:05 shows an ice skater performing a spin. As the skater pulls in her arms, her spin becomes faster. The speaker uses this as an analogy to explain why it was assumed that the Great Red Spot would spin faster as it decreased in size.\n",
       "\n",
       "The footage at 01:19 shows a potter's hands shaping a lump of clay on a spinning pottery wheel. As the clay spins, it becomes taller and thinner. This is given as an analogy to explain the real behavior of the Great Red Spot: the spot is getting taller, but not spinning faster, as it gets smaller."
      ],
      "text/plain": [
       "<IPython.core.display.Markdown object>"
      ]
     },
     "execution_count": 20,
     "metadata": {},
     "output_type": "execute_result"
    }
   ],
   "source": [
    "# Create the prompt.\n",
    "prompt = \"What are the examples given at 01:05 and 01:19 supposed to show us?\"\n",
    "\n",
    "# Choose a Gemini model.\n",
    "model = genai.GenerativeModel(model_name=\"gemini-1.5-pro-latest\")\n",
    "\n",
    "# Make the LLM request.\n",
    "print(\"Making LLM inference request...\")\n",
    "response = model.generate_content([prompt, video_file],\n",
    "                                  request_options={\"timeout\": 600})\n",
    "Markdown(response.text)"
   ]
  },
  {
   "cell_type": "markdown",
   "metadata": {
    "id": "JQE0XjgMZSJo"
   },
   "source": [
    "### Transcribe video and provide visual descriptions\n",
    "\n",
    "The Gemini models can transcribe and provide visual descriptions of video content\n",
    "by processing both the audio track and visual frames.\n",
    "For visual descriptions, the model samples the video at a rate of **1 frame\n",
    "per second**. This sampling rate may affect the level of detail in the\n",
    "descriptions, particularly for videos with rapidly changing visuals."
   ]
  },
  {
   "cell_type": "code",
   "execution_count": 21,
   "metadata": {
    "colab": {
     "base_uri": "https://localhost:8080/",
     "height": 295
    },
    "id": "_JrcMsYnYXpJ",
    "outputId": "a5343306-33bc-42c8-cf11-ed0de50ef2b3"
   },
   "outputs": [
    {
     "name": "stdout",
     "output_type": "stream",
     "text": [
      "Making LLM inference request...\n"
     ]
    },
    {
     "data": {
      "text/markdown": [
       "Here's a transcription of the video, along with timestamps for the salient events.\n",
       "\n",
       "[00:00:00] Jupiter rotates slowly in space, superimposed on a field of faint stars. Jupiter’s cloudy surface is tan, with swirling horizontal stripes of red, pink, and light blue.\n",
       "[00:00:16] The image of Jupiter moves closer, showcasing the darker bands that surround the planet.\n",
       "[00:00:26] The image of Jupiter zooms in on the Great Red Spot.\n",
       "[00:00:32] The video transitions to a magnified view of the Great Red Spot. A small moon passes over the spot.\n",
       "[00:00:42] A wider view of Jupiter appears again, with the Great Red Spot visible near the center of the planet.\n",
       "[00:00:50] A series of closeups of the Great Red Spot appears, showcasing how the Spot has changed from 1995 to 2015.\n",
       "[00:01:00] The video transitions to an even closer view of the Great Red Spot. \n",
       "[00:01:04] The camera focuses on a figure skater as she completes several spins and turns on a rink. The video is black and white.\n",
       "[00:01:12] The camera focuses on the Great Red Spot again.\n",
       "[00:01:17] A graph and images of pottery being made on a wheel appear onscreen. The graph shows the change in relative height of the Great Red Spot in 2014 (black), 2015 (blue), 2016 (green), and 2017 (red). \n",
       "[00:01:24] Images of the Great Red Spot from 1995, 2009, and 2015 appear again.\n",
       "[00:01:31] An image of Earth appears within the Great Red Spot.\n",
       "[00:01:36] The camera pans right, showing Voyager alongside Jupiter and one of its moons.\n",
       "[00:01:45] The camera pans left, showcasing the Juno spacecraft alongside Jupiter.\n",
       "[00:01:48] Jupiter floats in space once more.\n",
       "[00:01:54] The video transitions to an image of the Great Red Spot.\n",
       "[00:01:59] A satellite appears onscreen.\n",
       "[00:02:02] The NASA Goddard Space Flight Center logo appears onscreen."
      ],
      "text/plain": [
       "<IPython.core.display.Markdown object>"
      ]
     },
     "execution_count": 21,
     "metadata": {},
     "output_type": "execute_result"
    }
   ],
   "source": [
    "# Create the prompt.\n",
    "prompt = \"Transcribe the audio from this video, giving timestamps for salient events in the video. Also provide visual descriptions.\"\n",
    "\n",
    "# Choose a Gemini model.\n",
    "model = genai.GenerativeModel(model_name=\"gemini-1.5-pro-latest\")\n",
    "\n",
    "# Make the LLM request.\n",
    "print(\"Making LLM inference request...\")\n",
    "response = model.generate_content([video_file, prompt],\n",
    "                                  request_options={\"timeout\": 600})\n",
    "Markdown(response.text)"
   ]
  },
  {
   "cell_type": "markdown",
   "metadata": {
    "id": "VosrkvAyrx-v"
   },
   "source": [
    "## List files\n",
    "\n",
    "You can list all uploaded files and their URIs using `files.list_files()`."
   ]
  },
  {
   "cell_type": "code",
   "execution_count": 22,
   "metadata": {
    "colab": {
     "base_uri": "https://localhost:8080/",
     "height": 69
    },
    "id": "O82e6E2Irzlj",
    "outputId": "0dc0c418-85ca-4527-f849-3b9522dd2dad"
   },
   "outputs": [
    {
     "name": "stdout",
     "output_type": "stream",
     "text": [
      "GreatRedSpot.mp4, URI: https://generativelanguage.googleapis.com/v1beta/files/opr6ipiwm0lc\n",
      "Jetpack drawing, URI: https://generativelanguage.googleapis.com/v1beta/files/aqniccgoygk0\n",
      "Jetpack drawing, URI: https://generativelanguage.googleapis.com/v1beta/files/fqz51mficmm3\n"
     ]
    }
   ],
   "source": [
    "# List all files\n",
    "for file in genai.list_files():\n",
    "    print(f\"{file.display_name}, URI: {file.uri}\")"
   ]
  },
  {
   "cell_type": "markdown",
   "metadata": {
    "id": "diCy9BgjLqeS"
   },
   "source": [
    "## Delete files\n",
    "\n",
    "Files are automatically deleted after 2 days. You can also manually delete them using `files.delete()`."
   ]
  },
  {
   "cell_type": "code",
   "execution_count": 23,
   "metadata": {
    "colab": {
     "base_uri": "https://localhost:8080/",
     "height": 34
    },
    "id": "YYyi5PrKLqeb",
    "outputId": "71f070dd-7989-4a95-efa7-6c6c7234ecb0"
   },
   "outputs": [
    {
     "name": "stdout",
     "output_type": "stream",
     "text": [
      "Deleted file https://generativelanguage.googleapis.com/v1beta/files/opr6ipiwm0lc\n"
     ]
    }
   ],
   "source": [
    "genai.delete_file(video_file.name)\n",
    "print(f'Deleted file {video_file.uri}')"
   ]
  },
  {
   "cell_type": "markdown",
   "metadata": {
    "id": "NP2Xo5PSeogQ"
   },
   "source": [
    "## Assignment To Identify License Plate"
   ]
  },
  {
   "cell_type": "code",
   "execution_count": 25,
   "metadata": {
    "colab": {
     "base_uri": "https://localhost:8080/",
     "height": 90
    },
    "id": "loZr92tcDXZT",
    "outputId": "c67581fc-ec3e-4e2c-c6d0-2013cb80cf6c"
   },
   "outputs": [
    {
     "data": {
      "text/html": [
       "\n",
       "     <input type=\"file\" id=\"files-dfe3a59d-f8e3-4734-ad9c-7f50160baa20\" name=\"files[]\" multiple disabled\n",
       "        style=\"border:none\" />\n",
       "     <output id=\"result-dfe3a59d-f8e3-4734-ad9c-7f50160baa20\">\n",
       "      Upload widget is only available when the cell has been executed in the\n",
       "      current browser session. Please rerun this cell to enable.\n",
       "      </output>\n",
       "      <script>// Copyright 2017 Google LLC\n",
       "//\n",
       "// Licensed under the Apache License, Version 2.0 (the \"License\");\n",
       "// you may not use this file except in compliance with the License.\n",
       "// You may obtain a copy of the License at\n",
       "//\n",
       "//      http://www.apache.org/licenses/LICENSE-2.0\n",
       "//\n",
       "// Unless required by applicable law or agreed to in writing, software\n",
       "// distributed under the License is distributed on an \"AS IS\" BASIS,\n",
       "// WITHOUT WARRANTIES OR CONDITIONS OF ANY KIND, either express or implied.\n",
       "// See the License for the specific language governing permissions and\n",
       "// limitations under the License.\n",
       "\n",
       "/**\n",
       " * @fileoverview Helpers for google.colab Python module.\n",
       " */\n",
       "(function(scope) {\n",
       "function span(text, styleAttributes = {}) {\n",
       "  const element = document.createElement('span');\n",
       "  element.textContent = text;\n",
       "  for (const key of Object.keys(styleAttributes)) {\n",
       "    element.style[key] = styleAttributes[key];\n",
       "  }\n",
       "  return element;\n",
       "}\n",
       "\n",
       "// Max number of bytes which will be uploaded at a time.\n",
       "const MAX_PAYLOAD_SIZE = 100 * 1024;\n",
       "\n",
       "function _uploadFiles(inputId, outputId) {\n",
       "  const steps = uploadFilesStep(inputId, outputId);\n",
       "  const outputElement = document.getElementById(outputId);\n",
       "  // Cache steps on the outputElement to make it available for the next call\n",
       "  // to uploadFilesContinue from Python.\n",
       "  outputElement.steps = steps;\n",
       "\n",
       "  return _uploadFilesContinue(outputId);\n",
       "}\n",
       "\n",
       "// This is roughly an async generator (not supported in the browser yet),\n",
       "// where there are multiple asynchronous steps and the Python side is going\n",
       "// to poll for completion of each step.\n",
       "// This uses a Promise to block the python side on completion of each step,\n",
       "// then passes the result of the previous step as the input to the next step.\n",
       "function _uploadFilesContinue(outputId) {\n",
       "  const outputElement = document.getElementById(outputId);\n",
       "  const steps = outputElement.steps;\n",
       "\n",
       "  const next = steps.next(outputElement.lastPromiseValue);\n",
       "  return Promise.resolve(next.value.promise).then((value) => {\n",
       "    // Cache the last promise value to make it available to the next\n",
       "    // step of the generator.\n",
       "    outputElement.lastPromiseValue = value;\n",
       "    return next.value.response;\n",
       "  });\n",
       "}\n",
       "\n",
       "/**\n",
       " * Generator function which is called between each async step of the upload\n",
       " * process.\n",
       " * @param {string} inputId Element ID of the input file picker element.\n",
       " * @param {string} outputId Element ID of the output display.\n",
       " * @return {!Iterable<!Object>} Iterable of next steps.\n",
       " */\n",
       "function* uploadFilesStep(inputId, outputId) {\n",
       "  const inputElement = document.getElementById(inputId);\n",
       "  inputElement.disabled = false;\n",
       "\n",
       "  const outputElement = document.getElementById(outputId);\n",
       "  outputElement.innerHTML = '';\n",
       "\n",
       "  const pickedPromise = new Promise((resolve) => {\n",
       "    inputElement.addEventListener('change', (e) => {\n",
       "      resolve(e.target.files);\n",
       "    });\n",
       "  });\n",
       "\n",
       "  const cancel = document.createElement('button');\n",
       "  inputElement.parentElement.appendChild(cancel);\n",
       "  cancel.textContent = 'Cancel upload';\n",
       "  const cancelPromise = new Promise((resolve) => {\n",
       "    cancel.onclick = () => {\n",
       "      resolve(null);\n",
       "    };\n",
       "  });\n",
       "\n",
       "  // Wait for the user to pick the files.\n",
       "  const files = yield {\n",
       "    promise: Promise.race([pickedPromise, cancelPromise]),\n",
       "    response: {\n",
       "      action: 'starting',\n",
       "    }\n",
       "  };\n",
       "\n",
       "  cancel.remove();\n",
       "\n",
       "  // Disable the input element since further picks are not allowed.\n",
       "  inputElement.disabled = true;\n",
       "\n",
       "  if (!files) {\n",
       "    return {\n",
       "      response: {\n",
       "        action: 'complete',\n",
       "      }\n",
       "    };\n",
       "  }\n",
       "\n",
       "  for (const file of files) {\n",
       "    const li = document.createElement('li');\n",
       "    li.append(span(file.name, {fontWeight: 'bold'}));\n",
       "    li.append(span(\n",
       "        `(${file.type || 'n/a'}) - ${file.size} bytes, ` +\n",
       "        `last modified: ${\n",
       "            file.lastModifiedDate ? file.lastModifiedDate.toLocaleDateString() :\n",
       "                                    'n/a'} - `));\n",
       "    const percent = span('0% done');\n",
       "    li.appendChild(percent);\n",
       "\n",
       "    outputElement.appendChild(li);\n",
       "\n",
       "    const fileDataPromise = new Promise((resolve) => {\n",
       "      const reader = new FileReader();\n",
       "      reader.onload = (e) => {\n",
       "        resolve(e.target.result);\n",
       "      };\n",
       "      reader.readAsArrayBuffer(file);\n",
       "    });\n",
       "    // Wait for the data to be ready.\n",
       "    let fileData = yield {\n",
       "      promise: fileDataPromise,\n",
       "      response: {\n",
       "        action: 'continue',\n",
       "      }\n",
       "    };\n",
       "\n",
       "    // Use a chunked sending to avoid message size limits. See b/62115660.\n",
       "    let position = 0;\n",
       "    do {\n",
       "      const length = Math.min(fileData.byteLength - position, MAX_PAYLOAD_SIZE);\n",
       "      const chunk = new Uint8Array(fileData, position, length);\n",
       "      position += length;\n",
       "\n",
       "      const base64 = btoa(String.fromCharCode.apply(null, chunk));\n",
       "      yield {\n",
       "        response: {\n",
       "          action: 'append',\n",
       "          file: file.name,\n",
       "          data: base64,\n",
       "        },\n",
       "      };\n",
       "\n",
       "      let percentDone = fileData.byteLength === 0 ?\n",
       "          100 :\n",
       "          Math.round((position / fileData.byteLength) * 100);\n",
       "      percent.textContent = `${percentDone}% done`;\n",
       "\n",
       "    } while (position < fileData.byteLength);\n",
       "  }\n",
       "\n",
       "  // All done.\n",
       "  yield {\n",
       "    response: {\n",
       "      action: 'complete',\n",
       "    }\n",
       "  };\n",
       "}\n",
       "\n",
       "scope.google = scope.google || {};\n",
       "scope.google.colab = scope.google.colab || {};\n",
       "scope.google.colab._files = {\n",
       "  _uploadFiles,\n",
       "  _uploadFilesContinue,\n",
       "};\n",
       "})(self);\n",
       "</script> "
      ],
      "text/plain": [
       "<IPython.core.display.HTML object>"
      ]
     },
     "metadata": {},
     "output_type": "display_data"
    },
    {
     "name": "stdout",
     "output_type": "stream",
     "text": [
      "Saving car1.jpeg to car1.jpeg\n",
      "User uploaded file \"car1.jpeg\" with length 13620 bytes\n"
     ]
    }
   ],
   "source": [
    "from google.colab import files\n",
    "\n",
    "uploaded = files.upload()\n",
    "\n",
    "for fn in uploaded.keys():\n",
    "  print('User uploaded file \"{name}\" with length {length} bytes'.format(\n",
    "         name=fn, length=len(uploaded[fn])))"
   ]
  },
  {
   "cell_type": "code",
   "execution_count": 29,
   "metadata": {
    "colab": {
     "base_uri": "https://localhost:8080/",
     "height": 90
    },
    "id": "tbwsNVFRe7KY",
    "outputId": "0e1619ac-6497-4511-d1b4-8f646afe5de3"
   },
   "outputs": [
    {
     "data": {
      "text/html": [
       "\n",
       "     <input type=\"file\" id=\"files-2ad6c090-b3a8-46ab-813f-816511b36f4e\" name=\"files[]\" multiple disabled\n",
       "        style=\"border:none\" />\n",
       "     <output id=\"result-2ad6c090-b3a8-46ab-813f-816511b36f4e\">\n",
       "      Upload widget is only available when the cell has been executed in the\n",
       "      current browser session. Please rerun this cell to enable.\n",
       "      </output>\n",
       "      <script>// Copyright 2017 Google LLC\n",
       "//\n",
       "// Licensed under the Apache License, Version 2.0 (the \"License\");\n",
       "// you may not use this file except in compliance with the License.\n",
       "// You may obtain a copy of the License at\n",
       "//\n",
       "//      http://www.apache.org/licenses/LICENSE-2.0\n",
       "//\n",
       "// Unless required by applicable law or agreed to in writing, software\n",
       "// distributed under the License is distributed on an \"AS IS\" BASIS,\n",
       "// WITHOUT WARRANTIES OR CONDITIONS OF ANY KIND, either express or implied.\n",
       "// See the License for the specific language governing permissions and\n",
       "// limitations under the License.\n",
       "\n",
       "/**\n",
       " * @fileoverview Helpers for google.colab Python module.\n",
       " */\n",
       "(function(scope) {\n",
       "function span(text, styleAttributes = {}) {\n",
       "  const element = document.createElement('span');\n",
       "  element.textContent = text;\n",
       "  for (const key of Object.keys(styleAttributes)) {\n",
       "    element.style[key] = styleAttributes[key];\n",
       "  }\n",
       "  return element;\n",
       "}\n",
       "\n",
       "// Max number of bytes which will be uploaded at a time.\n",
       "const MAX_PAYLOAD_SIZE = 100 * 1024;\n",
       "\n",
       "function _uploadFiles(inputId, outputId) {\n",
       "  const steps = uploadFilesStep(inputId, outputId);\n",
       "  const outputElement = document.getElementById(outputId);\n",
       "  // Cache steps on the outputElement to make it available for the next call\n",
       "  // to uploadFilesContinue from Python.\n",
       "  outputElement.steps = steps;\n",
       "\n",
       "  return _uploadFilesContinue(outputId);\n",
       "}\n",
       "\n",
       "// This is roughly an async generator (not supported in the browser yet),\n",
       "// where there are multiple asynchronous steps and the Python side is going\n",
       "// to poll for completion of each step.\n",
       "// This uses a Promise to block the python side on completion of each step,\n",
       "// then passes the result of the previous step as the input to the next step.\n",
       "function _uploadFilesContinue(outputId) {\n",
       "  const outputElement = document.getElementById(outputId);\n",
       "  const steps = outputElement.steps;\n",
       "\n",
       "  const next = steps.next(outputElement.lastPromiseValue);\n",
       "  return Promise.resolve(next.value.promise).then((value) => {\n",
       "    // Cache the last promise value to make it available to the next\n",
       "    // step of the generator.\n",
       "    outputElement.lastPromiseValue = value;\n",
       "    return next.value.response;\n",
       "  });\n",
       "}\n",
       "\n",
       "/**\n",
       " * Generator function which is called between each async step of the upload\n",
       " * process.\n",
       " * @param {string} inputId Element ID of the input file picker element.\n",
       " * @param {string} outputId Element ID of the output display.\n",
       " * @return {!Iterable<!Object>} Iterable of next steps.\n",
       " */\n",
       "function* uploadFilesStep(inputId, outputId) {\n",
       "  const inputElement = document.getElementById(inputId);\n",
       "  inputElement.disabled = false;\n",
       "\n",
       "  const outputElement = document.getElementById(outputId);\n",
       "  outputElement.innerHTML = '';\n",
       "\n",
       "  const pickedPromise = new Promise((resolve) => {\n",
       "    inputElement.addEventListener('change', (e) => {\n",
       "      resolve(e.target.files);\n",
       "    });\n",
       "  });\n",
       "\n",
       "  const cancel = document.createElement('button');\n",
       "  inputElement.parentElement.appendChild(cancel);\n",
       "  cancel.textContent = 'Cancel upload';\n",
       "  const cancelPromise = new Promise((resolve) => {\n",
       "    cancel.onclick = () => {\n",
       "      resolve(null);\n",
       "    };\n",
       "  });\n",
       "\n",
       "  // Wait for the user to pick the files.\n",
       "  const files = yield {\n",
       "    promise: Promise.race([pickedPromise, cancelPromise]),\n",
       "    response: {\n",
       "      action: 'starting',\n",
       "    }\n",
       "  };\n",
       "\n",
       "  cancel.remove();\n",
       "\n",
       "  // Disable the input element since further picks are not allowed.\n",
       "  inputElement.disabled = true;\n",
       "\n",
       "  if (!files) {\n",
       "    return {\n",
       "      response: {\n",
       "        action: 'complete',\n",
       "      }\n",
       "    };\n",
       "  }\n",
       "\n",
       "  for (const file of files) {\n",
       "    const li = document.createElement('li');\n",
       "    li.append(span(file.name, {fontWeight: 'bold'}));\n",
       "    li.append(span(\n",
       "        `(${file.type || 'n/a'}) - ${file.size} bytes, ` +\n",
       "        `last modified: ${\n",
       "            file.lastModifiedDate ? file.lastModifiedDate.toLocaleDateString() :\n",
       "                                    'n/a'} - `));\n",
       "    const percent = span('0% done');\n",
       "    li.appendChild(percent);\n",
       "\n",
       "    outputElement.appendChild(li);\n",
       "\n",
       "    const fileDataPromise = new Promise((resolve) => {\n",
       "      const reader = new FileReader();\n",
       "      reader.onload = (e) => {\n",
       "        resolve(e.target.result);\n",
       "      };\n",
       "      reader.readAsArrayBuffer(file);\n",
       "    });\n",
       "    // Wait for the data to be ready.\n",
       "    let fileData = yield {\n",
       "      promise: fileDataPromise,\n",
       "      response: {\n",
       "        action: 'continue',\n",
       "      }\n",
       "    };\n",
       "\n",
       "    // Use a chunked sending to avoid message size limits. See b/62115660.\n",
       "    let position = 0;\n",
       "    do {\n",
       "      const length = Math.min(fileData.byteLength - position, MAX_PAYLOAD_SIZE);\n",
       "      const chunk = new Uint8Array(fileData, position, length);\n",
       "      position += length;\n",
       "\n",
       "      const base64 = btoa(String.fromCharCode.apply(null, chunk));\n",
       "      yield {\n",
       "        response: {\n",
       "          action: 'append',\n",
       "          file: file.name,\n",
       "          data: base64,\n",
       "        },\n",
       "      };\n",
       "\n",
       "      let percentDone = fileData.byteLength === 0 ?\n",
       "          100 :\n",
       "          Math.round((position / fileData.byteLength) * 100);\n",
       "      percent.textContent = `${percentDone}% done`;\n",
       "\n",
       "    } while (position < fileData.byteLength);\n",
       "  }\n",
       "\n",
       "  // All done.\n",
       "  yield {\n",
       "    response: {\n",
       "      action: 'complete',\n",
       "    }\n",
       "  };\n",
       "}\n",
       "\n",
       "scope.google = scope.google || {};\n",
       "scope.google.colab = scope.google.colab || {};\n",
       "scope.google.colab._files = {\n",
       "  _uploadFiles,\n",
       "  _uploadFilesContinue,\n",
       "};\n",
       "})(self);\n",
       "</script> "
      ],
      "text/plain": [
       "<IPython.core.display.HTML object>"
      ]
     },
     "metadata": {},
     "output_type": "display_data"
    },
    {
     "name": "stdout",
     "output_type": "stream",
     "text": [
      "Saving car1.jpeg to car1 (1).jpeg\n",
      "Uploaded file 'License Plate' as: https://generativelanguage.googleapis.com/v1beta/files/w31zteqe9arp\n"
     ]
    }
   ],
   "source": [
    "from google.colab import files\n",
    "import google.generativeai as genai\n",
    "import os\n",
    "\n",
    "# Upload the file\n",
    "uploaded = files.upload()\n",
    "\n",
    "# Get the filename and content of the uploaded file\n",
    "filename = next(iter(uploaded))\n",
    "file_content = uploaded[filename]\n",
    "\n",
    "# Save the file content to a temporary file\n",
    "with open(filename, 'wb') as f:\n",
    "    f.write(file_content)\n",
    "\n",
    "# Upload the temporary file using genai.upload_file\n",
    "license_plate = genai.upload_file(\n",
    "    path=filename,  # Pass the file path\n",
    "    mime_type='image/jpeg',  # Adjust the MIME type if necessary\n",
    "    display_name=\"License Plate\"\n",
    ")\n",
    "\n",
    "print(f\"Uploaded file '{license_plate.display_name}' as: {license_plate.uri}\")\n",
    "\n",
    "# Remove the temporary file\n",
    "os.remove(filename)"
   ]
  },
  {
   "cell_type": "code",
   "execution_count": 31,
   "metadata": {
    "colab": {
     "base_uri": "https://localhost:8080/",
     "height": 226
    },
    "id": "jx_qpvdOiAyE",
    "outputId": "86a4f5f1-c0d8-4f32-c7dc-63082210969c"
   },
   "outputs": [
    {
     "data": {
      "text/markdown": [
       "```json\n",
       "{\n",
       "  ‘plat_no’: ‘B 108 BA’,\n",
       "  ‘vehicle’: ‘car’,\n",
       "  ‘vehicle_type’: ‘sedan’,\n",
       "  ‘color’: ‘white’,\n",
       "  ‘gate_open’: ‘2024-07-27 14:47:12’, \n",
       "  ‘gate_closed’: ‘N/A’\n",
       "}\n",
       "```\n",
       "\n",
       "**Explanation of Timestamp Choice:**\n",
       "\n",
       "I've used the current date and time (July 27, 2024, 14:47:12 UTC) as the `gate_open` value, as requested.  You'll likely want to replace this with the actual timestamp from your gate system when processing real data."
      ],
      "text/plain": [
       "<IPython.core.display.Markdown object>"
      ]
     },
     "execution_count": 31,
     "metadata": {},
     "output_type": "execute_result"
    }
   ],
   "source": [
    "# Choose a Gemini model.\n",
    "model = genai.GenerativeModel(model_name=\"gemini-1.5-pro-latest\")\n",
    "\n",
    "# Prompt the model with text and the previously uploaded image.\n",
    "response = model.generate_content([license_plate, \"read the plate number of the image with output example (‘plat_no’: ‘B 1234 ABC’,\t‘vehicle’: ‘car’,‘vehicle_type’: ‘sedan’,\t‘color’: ‘red’,\t‘gate_open’: ‘2024-12-02 18.15.01’,\t‘gate_closed’: ‘N/A’,), use current date time for gate_open value\"])\n",
    "\n",
    "Markdown(response.text)"
   ]
  }
 ],
 "metadata": {
  "colab": {
   "collapsed_sections": [
    "c-z4zsCUlaru"
   ],
   "provenance": []
  },
  "kernelspec": {
   "display_name": "Python 3",
   "name": "python3"
  }
 },
 "nbformat": 4,
 "nbformat_minor": 0
}
